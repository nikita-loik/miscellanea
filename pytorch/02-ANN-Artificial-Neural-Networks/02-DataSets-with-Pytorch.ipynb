{
 "cells": [
  {
   "cell_type": "markdown",
   "metadata": {},
   "source": [
    "<img src=\"../Pierian-Data-Logo.PNG\">\n",
    "<br>\n",
    "<strong><center>Copyright 2019. Created by Jose Marcial Portilla.</center></strong>"
   ]
  },
  {
   "cell_type": "markdown",
   "metadata": {},
   "source": [
    "# Datasets with PyTorch\n",
    "In this section we'll show how to:\n",
    "* load data from outside files\n",
    "* build random batches using PyTorch's <a href='https://pytorch.org/docs/stable/data.html'><strong><tt>data</tt></strong></a> utilities<br>\n",
    "\n",
    "At the end we'll briefly mention <a href='https://pytorch.org/docs/stable/torchvision/index.html'><tt><strong>torchvision</strong></tt></a>."
   ]
  },
  {
   "cell_type": "markdown",
   "metadata": {},
   "source": [
    "## Perform standard imports"
   ]
  },
  {
   "cell_type": "code",
   "execution_count": 1,
   "metadata": {},
   "outputs": [],
   "source": [
    "import torch\n",
    "import numpy as np\n",
    "import pandas as pd\n",
    "import matplotlib.pyplot as plt\n",
    "%matplotlib inline"
   ]
  },
  {
   "cell_type": "markdown",
   "metadata": {},
   "source": [
    "# Loading data from files\n",
    "We've seen how to load NumPy arrays into PyTorch, and anyone familiar with <tt>pandas.read_csv()</tt> can use it to prepare data before forming tensors. Here we'll load the <a href='https://en.wikipedia.org/wiki/Iris_flower_data_set'>iris flower dataset</a> saved as a .csv file."
   ]
  },
  {
   "cell_type": "code",
   "execution_count": 2,
   "metadata": {},
   "outputs": [
    {
     "data": {
      "text/html": [
       "<div>\n",
       "<style scoped>\n",
       "    .dataframe tbody tr th:only-of-type {\n",
       "        vertical-align: middle;\n",
       "    }\n",
       "\n",
       "    .dataframe tbody tr th {\n",
       "        vertical-align: top;\n",
       "    }\n",
       "\n",
       "    .dataframe thead th {\n",
       "        text-align: right;\n",
       "    }\n",
       "</style>\n",
       "<table border=\"1\" class=\"dataframe\">\n",
       "  <thead>\n",
       "    <tr style=\"text-align: right;\">\n",
       "      <th></th>\n",
       "      <th>sepal length (cm)</th>\n",
       "      <th>sepal width (cm)</th>\n",
       "      <th>petal length (cm)</th>\n",
       "      <th>petal width (cm)</th>\n",
       "      <th>target</th>\n",
       "    </tr>\n",
       "  </thead>\n",
       "  <tbody>\n",
       "    <tr>\n",
       "      <td>0</td>\n",
       "      <td>5.1</td>\n",
       "      <td>3.5</td>\n",
       "      <td>1.4</td>\n",
       "      <td>0.2</td>\n",
       "      <td>0.0</td>\n",
       "    </tr>\n",
       "    <tr>\n",
       "      <td>1</td>\n",
       "      <td>4.9</td>\n",
       "      <td>3.0</td>\n",
       "      <td>1.4</td>\n",
       "      <td>0.2</td>\n",
       "      <td>0.0</td>\n",
       "    </tr>\n",
       "    <tr>\n",
       "      <td>2</td>\n",
       "      <td>4.7</td>\n",
       "      <td>3.2</td>\n",
       "      <td>1.3</td>\n",
       "      <td>0.2</td>\n",
       "      <td>0.0</td>\n",
       "    </tr>\n",
       "    <tr>\n",
       "      <td>3</td>\n",
       "      <td>4.6</td>\n",
       "      <td>3.1</td>\n",
       "      <td>1.5</td>\n",
       "      <td>0.2</td>\n",
       "      <td>0.0</td>\n",
       "    </tr>\n",
       "    <tr>\n",
       "      <td>4</td>\n",
       "      <td>5.0</td>\n",
       "      <td>3.6</td>\n",
       "      <td>1.4</td>\n",
       "      <td>0.2</td>\n",
       "      <td>0.0</td>\n",
       "    </tr>\n",
       "  </tbody>\n",
       "</table>\n",
       "</div>"
      ],
      "text/plain": [
       "   sepal length (cm)  sepal width (cm)  petal length (cm)  petal width (cm)  \\\n",
       "0                5.1               3.5                1.4               0.2   \n",
       "1                4.9               3.0                1.4               0.2   \n",
       "2                4.7               3.2                1.3               0.2   \n",
       "3                4.6               3.1                1.5               0.2   \n",
       "4                5.0               3.6                1.4               0.2   \n",
       "\n",
       "   target  \n",
       "0     0.0  \n",
       "1     0.0  \n",
       "2     0.0  \n",
       "3     0.0  \n",
       "4     0.0  "
      ]
     },
     "execution_count": 2,
     "metadata": {},
     "output_type": "execute_result"
    }
   ],
   "source": [
    "df = pd.read_csv('../Data/iris.csv')\n",
    "df.head()"
   ]
  },
  {
   "cell_type": "code",
   "execution_count": 3,
   "metadata": {},
   "outputs": [
    {
     "data": {
      "text/plain": [
       "(150, 5)"
      ]
     },
     "execution_count": 3,
     "metadata": {},
     "output_type": "execute_result"
    }
   ],
   "source": [
    "df.shape"
   ]
  },
  {
   "cell_type": "markdown",
   "metadata": {},
   "source": [
    "## Plot the data"
   ]
  },
  {
   "cell_type": "code",
   "execution_count": 4,
   "metadata": {},
   "outputs": [
    {
     "data": {
      "image/png": "[encoded data removed]",
      "text/plain": [
       "<Figure size 720x504 with 4 Axes>"
      ]
     },
     "metadata": {
      "needs_background": "light"
     },
     "output_type": "display_data"
    }
   ],
   "source": [
    "fig, axes = plt.subplots(nrows=2, ncols=2, figsize=(10,7))\n",
    "fig.tight_layout()\n",
    "\n",
    "plots = [(0,1),(2,3),(0,2),(1,3)]\n",
    "colors = ['b', 'r', 'g']\n",
    "labels = ['Iris setosa','Iris virginica','Iris versicolor']\n",
    "\n",
    "for i, ax in enumerate(axes.flat):\n",
    "    for j in range(3):\n",
    "        x = df.columns[plots[i][0]]\n",
    "        y = df.columns[plots[i][1]]\n",
    "        ax.scatter(df[df['target']==j][x], df[df['target']==j][y], color=colors[j])\n",
    "        ax.set(xlabel=x, ylabel=y)\n",
    "\n",
    "fig.legend(labels=labels, loc=3, bbox_to_anchor=(1.0,0.85))\n",
    "plt.show()"
   ]
  },
  {
   "cell_type": "markdown",
   "metadata": {},
   "source": [
    "The iris dataset consists of 50 samples each from three species of Iris (<em>Iris setosa</em>, <em>Iris virginica</em> and <em>Iris versicolor</em>), for 150 total samples. We have four features (sepal length & width, petal length & width) and three unique labels:\n",
    "0. <em>Iris setosa</em>\n",
    "1. <em>Iris virginica</em>\n",
    "2. <em>Iris versicolor</em>\n",
    "\n",
    "### The classic method for building train/test split tensors\n",
    "Before introducing PyTorch's Dataset and DataLoader classes, we'll take a quick look at the alternative."
   ]
  },
  {
   "cell_type": "code",
   "execution_count": 5,
   "metadata": {},
   "outputs": [],
   "source": [
    "from sklearn.model_selection import train_test_split\n",
    "\n",
    "train_X, test_X, train_y, test_y = train_test_split(df.drop('target',axis=1).values,\n",
    "                                                    df['target'].values, test_size=0.2,\n",
    "                                                    random_state=33)\n",
    "\n",
    "X_train = torch.FloatTensor(train_X)\n",
    "X_test = torch.FloatTensor(test_X)\n",
    "y_train = torch.LongTensor(train_y).reshape(-1, 1)\n",
    "y_test = torch.LongTensor(test_y).reshape(-1, 1)"
   ]
  },
  {
   "cell_type": "code",
   "execution_count": 6,
   "metadata": {},
   "outputs": [
    {
     "name": "stdout",
     "output_type": "stream",
     "text": [
      "Training size: 120\n",
      "Labels: tensor([0, 1, 2])\n",
      "Counts: tensor([42, 42, 36])\n"
     ]
    }
   ],
   "source": [
    "print(f'Training size: {len(y_train)}')\n",
    "labels, counts = y_train.unique(return_counts=True)\n",
    "print(f'Labels: {labels}\\nCounts: {counts}')"
   ]
  },
  {
   "cell_type": "markdown",
   "metadata": {},
   "source": [
    "<div class=\"alert alert-success\"><strong>NOTE: </strong>The importance of a balanced training set is discussed in <em>A systematic study of the class imbalance problem in convolutional neural networks</em> by Mateusz Buda, Atsuto Maki, Maciej A. Mazurowski (10/15/17, latest rev 10/13/18) <a href='https://arxiv.org/abs/1710.05381'>https://arxiv.org/abs/1710.05381</a><br>For example, the authors show that oversampling a less common class so that it matches the more common classes is always the preferred choice.</div>"
   ]
  },
  {
   "cell_type": "code",
   "execution_count": 7,
   "metadata": {},
   "outputs": [
    {
     "data": {
      "text/plain": [
       "torch.Size([120, 4])"
      ]
     },
     "execution_count": 7,
     "metadata": {},
     "output_type": "execute_result"
    }
   ],
   "source": [
    "X_train.size()"
   ]
  },
  {
   "cell_type": "code",
   "execution_count": 8,
   "metadata": {},
   "outputs": [
    {
     "data": {
      "text/plain": [
       "torch.Size([120, 1])"
      ]
     },
     "execution_count": 8,
     "metadata": {},
     "output_type": "execute_result"
    }
   ],
   "source": [
    "y_train.size()"
   ]
  },
  {
   "cell_type": "markdown",
   "metadata": {},
   "source": [
    "<div class=\"alert alert-info\"><strong>NOTE: </strong>It's up to us to remember which columns correspond to which features.</div>"
   ]
  },
  {
   "cell_type": "markdown",
   "metadata": {},
   "source": [
    "## Using PyTorch's Dataset and DataLoader classes\n",
    "A far better alternative is to leverage PyTorch's <a href='https://pytorch.org/docs/stable/data.html'><strong><tt>Dataset</tt></strong></a> and <a href='https://pytorch.org/docs/stable/data.html#torch.utils.data.DataLoader'><strong><tt>DataLoader</strong></tt></a> classes.\n",
    "\n",
    "Usually, to set up a Dataset specific to our investigation we would define our own custom class that inherits from <tt>torch.utils.data.Dataset</tt> (we'll do this in the CNN section). For now, we can use the built-in <a href='https://pytorch.org/docs/stable/data.html#torch.utils.data.TensorDataset'><strong><tt>TensorDataset</tt></strong></a> class."
   ]
  },
  {
   "cell_type": "code",
   "execution_count": 9,
   "metadata": {},
   "outputs": [],
   "source": [
    "from torch.utils.data import TensorDataset, DataLoader\n",
    "\n",
    "data = df.drop('target',axis=1).values\n",
    "labels = df['target'].values\n",
    "\n",
    "iris = TensorDataset(torch.FloatTensor(data),torch.LongTensor(labels))"
   ]
  },
  {
   "cell_type": "code",
   "execution_count": 10,
   "metadata": {},
   "outputs": [
    {
     "data": {
      "text/plain": [
       "150"
      ]
     },
     "execution_count": 10,
     "metadata": {},
     "output_type": "execute_result"
    }
   ],
   "source": [
    "len(iris)"
   ]
  },
  {
   "cell_type": "code",
   "execution_count": 11,
   "metadata": {},
   "outputs": [
    {
     "data": {
      "text/plain": [
       "torch.utils.data.dataset.TensorDataset"
      ]
     },
     "execution_count": 11,
     "metadata": {},
     "output_type": "execute_result"
    }
   ],
   "source": [
    "type(iris)"
   ]
  },
  {
   "cell_type": "code",
   "execution_count": 12,
   "metadata": {},
   "outputs": [
    {
     "name": "stdout",
     "output_type": "stream",
     "text": [
      "(tensor([5.1000, 3.5000, 1.4000, 0.2000]), tensor(0))\n",
      "(tensor([4.9000, 3.0000, 1.4000, 0.2000]), tensor(0))\n",
      "(tensor([4.7000, 3.2000, 1.3000, 0.2000]), tensor(0))\n",
      "(tensor([4.6000, 3.1000, 1.5000, 0.2000]), tensor(0))\n",
      "(tensor([5.0000, 3.6000, 1.4000, 0.2000]), tensor(0))\n",
      "(tensor([5.4000, 3.9000, 1.7000, 0.4000]), tensor(0))\n",
      "(tensor([4.6000, 3.4000, 1.4000, 0.3000]), tensor(0))\n",
      "(tensor([5.0000, 3.4000, 1.5000, 0.2000]), tensor(0))\n",
      "(tensor([4.4000, 2.9000, 1.4000, 0.2000]), tensor(0))\n",
      "(tensor([4.9000, 3.1000, 1.5000, 0.1000]), tensor(0))\n",
      "(tensor([5.4000, 3.7000, 1.5000, 0.2000]), tensor(0))\n",
      "(tensor([4.8000, 3.4000, 1.6000, 0.2000]), tensor(0))\n",
      "(tensor([4.8000, 3.0000, 1.4000, 0.1000]), tensor(0))\n",
      "(tensor([4.3000, 3.0000, 1.1000, 0.1000]), tensor(0))\n",
      "(tensor([5.8000, 4.0000, 1.2000, 0.2000]), tensor(0))\n",
      "(tensor([5.7000, 4.4000, 1.5000, 0.4000]), tensor(0))\n",
      "(tensor([5.4000, 3.9000, 1.3000, 0.4000]), tensor(0))\n",
      "(tensor([5.1000, 3.5000, 1.4000, 0.3000]), tensor(0))\n",
      "(tensor([5.7000, 3.8000, 1.7000, 0.3000]), tensor(0))\n",
      "(tensor([5.1000, 3.8000, 1.5000, 0.3000]), tensor(0))\n",
      "(tensor([5.4000, 3.4000, 1.7000, 0.2000]), tensor(0))\n",
      "(tensor([5.1000, 3.7000, 1.5000, 0.4000]), tensor(0))\n",
      "(tensor([4.6000, 3.6000, 1.0000, 0.2000]), tensor(0))\n",
      "(tensor([5.1000, 3.3000, 1.7000, 0.5000]), tensor(0))\n",
      "(tensor([4.8000, 3.4000, 1.9000, 0.2000]), tensor(0))\n",
      "(tensor([5.0000, 3.0000, 1.6000, 0.2000]), tensor(0))\n",
      "(tensor([5.0000, 3.4000, 1.6000, 0.4000]), tensor(0))\n",
      "(tensor([5.2000, 3.5000, 1.5000, 0.2000]), tensor(0))\n",
      "(tensor([5.2000, 3.4000, 1.4000, 0.2000]), tensor(0))\n",
      "(tensor([4.7000, 3.2000, 1.6000, 0.2000]), tensor(0))\n",
      "(tensor([4.8000, 3.1000, 1.6000, 0.2000]), tensor(0))\n",
      "(tensor([5.4000, 3.4000, 1.5000, 0.4000]), tensor(0))\n",
      "(tensor([5.2000, 4.1000, 1.5000, 0.1000]), tensor(0))\n",
      "(tensor([5.5000, 4.2000, 1.4000, 0.2000]), tensor(0))\n",
      "(tensor([4.9000, 3.1000, 1.5000, 0.1000]), tensor(0))\n",
      "(tensor([5.0000, 3.2000, 1.2000, 0.2000]), tensor(0))\n",
      "(tensor([5.5000, 3.5000, 1.3000, 0.2000]), tensor(0))\n",
      "(tensor([4.9000, 3.1000, 1.5000, 0.1000]), tensor(0))\n",
      "(tensor([4.4000, 3.0000, 1.3000, 0.2000]), tensor(0))\n",
      "(tensor([5.1000, 3.4000, 1.5000, 0.2000]), tensor(0))\n",
      "(tensor([5.0000, 3.5000, 1.3000, 0.3000]), tensor(0))\n",
      "(tensor([4.5000, 2.3000, 1.3000, 0.3000]), tensor(0))\n",
      "(tensor([4.4000, 3.2000, 1.3000, 0.2000]), tensor(0))\n",
      "(tensor([5.0000, 3.5000, 1.6000, 0.6000]), tensor(0))\n",
      "(tensor([5.1000, 3.8000, 1.9000, 0.4000]), tensor(0))\n",
      "(tensor([4.8000, 3.0000, 1.4000, 0.3000]), tensor(0))\n",
      "(tensor([5.1000, 3.8000, 1.6000, 0.2000]), tensor(0))\n",
      "(tensor([4.6000, 3.2000, 1.4000, 0.2000]), tensor(0))\n",
      "(tensor([5.3000, 3.7000, 1.5000, 0.2000]), tensor(0))\n",
      "(tensor([5.0000, 3.3000, 1.4000, 0.2000]), tensor(0))\n",
      "(tensor([7.0000, 3.2000, 4.7000, 1.4000]), tensor(1))\n",
      "(tensor([6.4000, 3.2000, 4.5000, 1.5000]), tensor(1))\n",
      "(tensor([6.9000, 3.1000, 4.9000, 1.5000]), tensor(1))\n",
      "(tensor([5.5000, 2.3000, 4.0000, 1.3000]), tensor(1))\n",
      "(tensor([6.5000, 2.8000, 4.6000, 1.5000]), tensor(1))\n",
      "(tensor([5.7000, 2.8000, 4.5000, 1.3000]), tensor(1))\n",
      "(tensor([6.3000, 3.3000, 4.7000, 1.6000]), tensor(1))\n",
      "(tensor([4.9000, 2.4000, 3.3000, 1.0000]), tensor(1))\n",
      "(tensor([6.6000, 2.9000, 4.6000, 1.3000]), tensor(1))\n",
      "(tensor([5.2000, 2.7000, 3.9000, 1.4000]), tensor(1))\n",
      "(tensor([5.0000, 2.0000, 3.5000, 1.0000]), tensor(1))\n",
      "(tensor([5.9000, 3.0000, 4.2000, 1.5000]), tensor(1))\n",
      "(tensor([6.0000, 2.2000, 4.0000, 1.0000]), tensor(1))\n",
      "(tensor([6.1000, 2.9000, 4.7000, 1.4000]), tensor(1))\n",
      "(tensor([5.6000, 2.9000, 3.6000, 1.3000]), tensor(1))\n",
      "(tensor([6.7000, 3.1000, 4.4000, 1.4000]), tensor(1))\n",
      "(tensor([5.6000, 3.0000, 4.5000, 1.5000]), tensor(1))\n",
      "(tensor([5.8000, 2.7000, 4.1000, 1.0000]), tensor(1))\n",
      "(tensor([6.2000, 2.2000, 4.5000, 1.5000]), tensor(1))\n",
      "(tensor([5.6000, 2.5000, 3.9000, 1.1000]), tensor(1))\n",
      "(tensor([5.9000, 3.2000, 4.8000, 1.8000]), tensor(1))\n",
      "(tensor([6.1000, 2.8000, 4.0000, 1.3000]), tensor(1))\n",
      "(tensor([6.3000, 2.5000, 4.9000, 1.5000]), tensor(1))\n",
      "(tensor([6.1000, 2.8000, 4.7000, 1.2000]), tensor(1))\n",
      "(tensor([6.4000, 2.9000, 4.3000, 1.3000]), tensor(1))\n",
      "(tensor([6.6000, 3.0000, 4.4000, 1.4000]), tensor(1))\n",
      "(tensor([6.8000, 2.8000, 4.8000, 1.4000]), tensor(1))\n",
      "(tensor([6.7000, 3.0000, 5.0000, 1.7000]), tensor(1))\n",
      "(tensor([6.0000, 2.9000, 4.5000, 1.5000]), tensor(1))\n",
      "(tensor([5.7000, 2.6000, 3.5000, 1.0000]), tensor(1))\n",
      "(tensor([5.5000, 2.4000, 3.8000, 1.1000]), tensor(1))\n",
      "(tensor([5.5000, 2.4000, 3.7000, 1.0000]), tensor(1))\n",
      "(tensor([5.8000, 2.7000, 3.9000, 1.2000]), tensor(1))\n",
      "(tensor([6.0000, 2.7000, 5.1000, 1.6000]), tensor(1))\n",
      "(tensor([5.4000, 3.0000, 4.5000, 1.5000]), tensor(1))\n",
      "(tensor([6.0000, 3.4000, 4.5000, 1.6000]), tensor(1))\n",
      "(tensor([6.7000, 3.1000, 4.7000, 1.5000]), tensor(1))\n",
      "(tensor([6.3000, 2.3000, 4.4000, 1.3000]), tensor(1))\n",
      "(tensor([5.6000, 3.0000, 4.1000, 1.3000]), tensor(1))\n",
      "(tensor([5.5000, 2.5000, 4.0000, 1.3000]), tensor(1))\n",
      "(tensor([5.5000, 2.6000, 4.4000, 1.2000]), tensor(1))\n",
      "(tensor([6.1000, 3.0000, 4.6000, 1.4000]), tensor(1))\n",
      "(tensor([5.8000, 2.6000, 4.0000, 1.2000]), tensor(1))\n",
      "(tensor([5.0000, 2.3000, 3.3000, 1.0000]), tensor(1))\n",
      "(tensor([5.6000, 2.7000, 4.2000, 1.3000]), tensor(1))\n",
      "(tensor([5.7000, 3.0000, 4.2000, 1.2000]), tensor(1))\n",
      "(tensor([5.7000, 2.9000, 4.2000, 1.3000]), tensor(1))\n",
      "(tensor([6.2000, 2.9000, 4.3000, 1.3000]), tensor(1))\n",
      "(tensor([5.1000, 2.5000, 3.0000, 1.1000]), tensor(1))\n",
      "(tensor([5.7000, 2.8000, 4.1000, 1.3000]), tensor(1))\n",
      "(tensor([6.3000, 3.3000, 6.0000, 2.5000]), tensor(2))\n",
      "(tensor([5.8000, 2.7000, 5.1000, 1.9000]), tensor(2))\n",
      "(tensor([7.1000, 3.0000, 5.9000, 2.1000]), tensor(2))\n",
      "(tensor([6.3000, 2.9000, 5.6000, 1.8000]), tensor(2))\n",
      "(tensor([6.5000, 3.0000, 5.8000, 2.2000]), tensor(2))\n",
      "(tensor([7.6000, 3.0000, 6.6000, 2.1000]), tensor(2))\n",
      "(tensor([4.9000, 2.5000, 4.5000, 1.7000]), tensor(2))\n",
      "(tensor([7.3000, 2.9000, 6.3000, 1.8000]), tensor(2))\n",
      "(tensor([6.7000, 2.5000, 5.8000, 1.8000]), tensor(2))\n",
      "(tensor([7.2000, 3.6000, 6.1000, 2.5000]), tensor(2))\n",
      "(tensor([6.5000, 3.2000, 5.1000, 2.0000]), tensor(2))\n",
      "(tensor([6.4000, 2.7000, 5.3000, 1.9000]), tensor(2))\n",
      "(tensor([6.8000, 3.0000, 5.5000, 2.1000]), tensor(2))\n",
      "(tensor([5.7000, 2.5000, 5.0000, 2.0000]), tensor(2))\n",
      "(tensor([5.8000, 2.8000, 5.1000, 2.4000]), tensor(2))\n",
      "(tensor([6.4000, 3.2000, 5.3000, 2.3000]), tensor(2))\n",
      "(tensor([6.5000, 3.0000, 5.5000, 1.8000]), tensor(2))\n",
      "(tensor([7.7000, 3.8000, 6.7000, 2.2000]), tensor(2))\n",
      "(tensor([7.7000, 2.6000, 6.9000, 2.3000]), tensor(2))\n",
      "(tensor([6.0000, 2.2000, 5.0000, 1.5000]), tensor(2))\n",
      "(tensor([6.9000, 3.2000, 5.7000, 2.3000]), tensor(2))\n",
      "(tensor([5.6000, 2.8000, 4.9000, 2.0000]), tensor(2))\n",
      "(tensor([7.7000, 2.8000, 6.7000, 2.0000]), tensor(2))\n",
      "(tensor([6.3000, 2.7000, 4.9000, 1.8000]), tensor(2))\n",
      "(tensor([6.7000, 3.3000, 5.7000, 2.1000]), tensor(2))\n",
      "(tensor([7.2000, 3.2000, 6.0000, 1.8000]), tensor(2))\n",
      "(tensor([6.2000, 2.8000, 4.8000, 1.8000]), tensor(2))\n",
      "(tensor([6.1000, 3.0000, 4.9000, 1.8000]), tensor(2))\n",
      "(tensor([6.4000, 2.8000, 5.6000, 2.1000]), tensor(2))\n",
      "(tensor([7.2000, 3.0000, 5.8000, 1.6000]), tensor(2))\n",
      "(tensor([7.4000, 2.8000, 6.1000, 1.9000]), tensor(2))\n",
      "(tensor([7.9000, 3.8000, 6.4000, 2.0000]), tensor(2))\n",
      "(tensor([6.4000, 2.8000, 5.6000, 2.2000]), tensor(2))\n",
      "(tensor([6.3000, 2.8000, 5.1000, 1.5000]), tensor(2))\n",
      "(tensor([6.1000, 2.6000, 5.6000, 1.4000]), tensor(2))\n",
      "(tensor([7.7000, 3.0000, 6.1000, 2.3000]), tensor(2))\n",
      "(tensor([6.3000, 3.4000, 5.6000, 2.4000]), tensor(2))\n",
      "(tensor([6.4000, 3.1000, 5.5000, 1.8000]), tensor(2))\n",
      "(tensor([6.0000, 3.0000, 4.8000, 1.8000]), tensor(2))\n",
      "(tensor([6.9000, 3.1000, 5.4000, 2.1000]), tensor(2))\n",
      "(tensor([6.7000, 3.1000, 5.6000, 2.4000]), tensor(2))\n",
      "(tensor([6.9000, 3.1000, 5.1000, 2.3000]), tensor(2))\n",
      "(tensor([5.8000, 2.7000, 5.1000, 1.9000]), tensor(2))\n",
      "(tensor([6.8000, 3.2000, 5.9000, 2.3000]), tensor(2))\n",
      "(tensor([6.7000, 3.3000, 5.7000, 2.5000]), tensor(2))\n",
      "(tensor([6.7000, 3.0000, 5.2000, 2.3000]), tensor(2))\n",
      "(tensor([6.3000, 2.5000, 5.0000, 1.9000]), tensor(2))\n",
      "(tensor([6.5000, 3.0000, 5.2000, 2.0000]), tensor(2))\n",
      "(tensor([6.2000, 3.4000, 5.4000, 2.3000]), tensor(2))\n",
      "(tensor([5.9000, 3.0000, 5.1000, 1.8000]), tensor(2))\n"
     ]
    }
   ],
   "source": [
    "for i in iris:\n",
    "    print(i)"
   ]
  },
  {
   "cell_type": "markdown",
   "metadata": {},
   "source": [
    "Once we have a dataset we can wrap it with a DataLoader. This gives us a powerful sampler that provides single- or multi-process iterators over the dataset."
   ]
  },
  {
   "cell_type": "code",
   "execution_count": 13,
   "metadata": {},
   "outputs": [],
   "source": [
    "iris_loader = DataLoader(iris, batch_size=105, shuffle=True)"
   ]
  },
  {
   "cell_type": "code",
   "execution_count": 14,
   "metadata": {
    "scrolled": false
   },
   "outputs": [
    {
     "name": "stdout",
     "output_type": "stream",
     "text": [
      "0 [tensor([[5.1000, 2.5000, 3.0000, 1.1000],\n",
      "        [4.9000, 3.0000, 1.4000, 0.2000],\n",
      "        [5.8000, 2.7000, 4.1000, 1.0000],\n",
      "        [6.9000, 3.1000, 5.4000, 2.1000],\n",
      "        [5.5000, 4.2000, 1.4000, 0.2000],\n",
      "        [4.4000, 2.9000, 1.4000, 0.2000],\n",
      "        [4.7000, 3.2000, 1.6000, 0.2000],\n",
      "        [5.2000, 3.4000, 1.4000, 0.2000],\n",
      "        [6.3000, 2.9000, 5.6000, 1.8000],\n",
      "        [6.7000, 3.3000, 5.7000, 2.5000],\n",
      "        [5.0000, 3.3000, 1.4000, 0.2000],\n",
      "        [7.9000, 3.8000, 6.4000, 2.0000],\n",
      "        [5.0000, 3.4000, 1.6000, 0.4000],\n",
      "        [5.1000, 3.8000, 1.9000, 0.4000],\n",
      "        [4.4000, 3.0000, 1.3000, 0.2000],\n",
      "        [5.1000, 3.5000, 1.4000, 0.3000],\n",
      "        [5.1000, 3.3000, 1.7000, 0.5000],\n",
      "        [5.0000, 3.0000, 1.6000, 0.2000],\n",
      "        [7.4000, 2.8000, 6.1000, 1.9000],\n",
      "        [5.7000, 3.8000, 1.7000, 0.3000],\n",
      "        [6.4000, 3.2000, 4.5000, 1.5000],\n",
      "        [6.3000, 2.5000, 4.9000, 1.5000],\n",
      "        [4.8000, 3.0000, 1.4000, 0.3000],\n",
      "        [5.9000, 3.0000, 4.2000, 1.5000],\n",
      "        [5.7000, 2.6000, 3.5000, 1.0000],\n",
      "        [5.9000, 3.2000, 4.8000, 1.8000],\n",
      "        [7.2000, 3.2000, 6.0000, 1.8000],\n",
      "        [4.5000, 2.3000, 1.3000, 0.3000],\n",
      "        [6.1000, 3.0000, 4.6000, 1.4000],\n",
      "        [6.4000, 2.8000, 5.6000, 2.2000],\n",
      "        [7.1000, 3.0000, 5.9000, 2.1000],\n",
      "        [4.9000, 3.1000, 1.5000, 0.1000],\n",
      "        [6.9000, 3.1000, 5.1000, 2.3000],\n",
      "        [4.9000, 2.5000, 4.5000, 1.7000],\n",
      "        [6.3000, 2.5000, 5.0000, 1.9000],\n",
      "        [6.3000, 2.7000, 4.9000, 1.8000],\n",
      "        [4.4000, 3.2000, 1.3000, 0.2000],\n",
      "        [6.8000, 3.0000, 5.5000, 2.1000],\n",
      "        [5.7000, 2.8000, 4.5000, 1.3000],\n",
      "        [5.4000, 3.9000, 1.3000, 0.4000],\n",
      "        [6.7000, 3.3000, 5.7000, 2.1000],\n",
      "        [5.5000, 2.6000, 4.4000, 1.2000],\n",
      "        [5.6000, 2.5000, 3.9000, 1.1000],\n",
      "        [6.1000, 3.0000, 4.9000, 1.8000],\n",
      "        [6.5000, 3.2000, 5.1000, 2.0000],\n",
      "        [5.0000, 3.2000, 1.2000, 0.2000],\n",
      "        [5.4000, 3.9000, 1.7000, 0.4000],\n",
      "        [5.0000, 3.5000, 1.3000, 0.3000],\n",
      "        [5.5000, 2.4000, 3.8000, 1.1000],\n",
      "        [6.0000, 2.2000, 5.0000, 1.5000],\n",
      "        [5.1000, 3.7000, 1.5000, 0.4000],\n",
      "        [4.8000, 3.4000, 1.9000, 0.2000],\n",
      "        [5.6000, 3.0000, 4.1000, 1.3000],\n",
      "        [5.8000, 4.0000, 1.2000, 0.2000],\n",
      "        [5.1000, 3.8000, 1.5000, 0.3000],\n",
      "        [6.1000, 2.8000, 4.0000, 1.3000],\n",
      "        [5.4000, 3.7000, 1.5000, 0.2000],\n",
      "        [6.1000, 2.6000, 5.6000, 1.4000],\n",
      "        [5.2000, 4.1000, 1.5000, 0.1000],\n",
      "        [7.2000, 3.6000, 6.1000, 2.5000],\n",
      "        [5.5000, 3.5000, 1.3000, 0.2000],\n",
      "        [6.4000, 3.1000, 5.5000, 1.8000],\n",
      "        [5.7000, 2.9000, 4.2000, 1.3000],\n",
      "        [6.9000, 3.2000, 5.7000, 2.3000],\n",
      "        [5.8000, 2.7000, 3.9000, 1.2000],\n",
      "        [6.4000, 2.9000, 4.3000, 1.3000],\n",
      "        [6.3000, 2.8000, 5.1000, 1.5000],\n",
      "        [6.3000, 3.3000, 6.0000, 2.5000],\n",
      "        [5.7000, 4.4000, 1.5000, 0.4000],\n",
      "        [5.6000, 2.9000, 3.6000, 1.3000],\n",
      "        [6.3000, 3.4000, 5.6000, 2.4000],\n",
      "        [4.8000, 3.0000, 1.4000, 0.1000],\n",
      "        [6.0000, 2.2000, 4.0000, 1.0000],\n",
      "        [5.7000, 3.0000, 4.2000, 1.2000],\n",
      "        [6.5000, 3.0000, 5.2000, 2.0000],\n",
      "        [6.7000, 3.0000, 5.0000, 1.7000],\n",
      "        [5.0000, 3.6000, 1.4000, 0.2000],\n",
      "        [5.0000, 2.3000, 3.3000, 1.0000],\n",
      "        [5.4000, 3.4000, 1.5000, 0.4000],\n",
      "        [4.9000, 3.1000, 1.5000, 0.1000],\n",
      "        [6.0000, 2.9000, 4.5000, 1.5000],\n",
      "        [7.3000, 2.9000, 6.3000, 1.8000],\n",
      "        [6.6000, 3.0000, 4.4000, 1.4000],\n",
      "        [6.5000, 3.0000, 5.8000, 2.2000],\n",
      "        [5.8000, 2.7000, 5.1000, 1.9000],\n",
      "        [6.8000, 2.8000, 4.8000, 1.4000],\n",
      "        [5.1000, 3.4000, 1.5000, 0.2000],\n",
      "        [5.0000, 2.0000, 3.5000, 1.0000],\n",
      "        [6.3000, 2.3000, 4.4000, 1.3000],\n",
      "        [5.5000, 2.5000, 4.0000, 1.3000],\n",
      "        [6.7000, 3.1000, 4.4000, 1.4000],\n",
      "        [7.7000, 3.0000, 6.1000, 2.3000],\n",
      "        [6.1000, 2.9000, 4.7000, 1.4000],\n",
      "        [4.6000, 3.4000, 1.4000, 0.3000],\n",
      "        [5.4000, 3.0000, 4.5000, 1.5000],\n",
      "        [5.4000, 3.4000, 1.7000, 0.2000],\n",
      "        [7.7000, 2.6000, 6.9000, 2.3000],\n",
      "        [6.6000, 2.9000, 4.6000, 1.3000],\n",
      "        [5.7000, 2.8000, 4.1000, 1.3000],\n",
      "        [5.2000, 3.5000, 1.5000, 0.2000],\n",
      "        [7.2000, 3.0000, 5.8000, 1.6000],\n",
      "        [6.0000, 3.4000, 4.5000, 1.6000],\n",
      "        [6.4000, 2.7000, 5.3000, 1.9000],\n",
      "        [4.9000, 3.1000, 1.5000, 0.1000],\n",
      "        [6.2000, 2.9000, 4.3000, 1.3000]]), tensor([1, 0, 1, 2, 0, 0, 0, 0, 2, 2, 0, 2, 0, 0, 0, 0, 0, 0, 2, 0, 1, 1, 0, 1,\n",
      "        1, 1, 2, 0, 1, 2, 2, 0, 2, 2, 2, 2, 0, 2, 1, 0, 2, 1, 1, 2, 2, 0, 0, 0,\n",
      "        1, 2, 0, 0, 1, 0, 0, 1, 0, 2, 0, 2, 0, 2, 1, 2, 1, 1, 2, 2, 0, 1, 2, 0,\n",
      "        1, 1, 2, 1, 0, 1, 0, 0, 1, 2, 1, 2, 2, 1, 0, 1, 1, 1, 1, 2, 1, 0, 1, 0,\n",
      "        2, 1, 1, 0, 2, 1, 2, 0, 1])]\n",
      "1 [tensor([[5.1000, 3.8000, 1.6000, 0.2000],\n",
      "        [4.3000, 3.0000, 1.1000, 0.1000],\n",
      "        [5.6000, 2.7000, 4.2000, 1.3000],\n",
      "        [4.8000, 3.4000, 1.6000, 0.2000],\n",
      "        [6.8000, 3.2000, 5.9000, 2.3000],\n",
      "        [4.6000, 3.6000, 1.0000, 0.2000],\n",
      "        [6.7000, 3.0000, 5.2000, 2.3000],\n",
      "        [5.5000, 2.4000, 3.7000, 1.0000],\n",
      "        [6.7000, 3.1000, 4.7000, 1.5000],\n",
      "        [6.9000, 3.1000, 4.9000, 1.5000],\n",
      "        [4.6000, 3.2000, 1.4000, 0.2000],\n",
      "        [7.0000, 3.2000, 4.7000, 1.4000],\n",
      "        [4.8000, 3.1000, 1.6000, 0.2000],\n",
      "        [6.3000, 3.3000, 4.7000, 1.6000],\n",
      "        [6.0000, 2.7000, 5.1000, 1.6000],\n",
      "        [5.6000, 2.8000, 4.9000, 2.0000],\n",
      "        [7.7000, 2.8000, 6.7000, 2.0000],\n",
      "        [5.0000, 3.4000, 1.5000, 0.2000],\n",
      "        [7.6000, 3.0000, 6.6000, 2.1000],\n",
      "        [5.8000, 2.8000, 5.1000, 2.4000],\n",
      "        [6.5000, 3.0000, 5.5000, 1.8000],\n",
      "        [5.1000, 3.5000, 1.4000, 0.2000],\n",
      "        [6.0000, 3.0000, 4.8000, 1.8000],\n",
      "        [5.8000, 2.6000, 4.0000, 1.2000],\n",
      "        [5.5000, 2.3000, 4.0000, 1.3000],\n",
      "        [6.4000, 2.8000, 5.6000, 2.1000],\n",
      "        [5.2000, 2.7000, 3.9000, 1.4000],\n",
      "        [6.7000, 2.5000, 5.8000, 1.8000],\n",
      "        [5.8000, 2.7000, 5.1000, 1.9000],\n",
      "        [5.3000, 3.7000, 1.5000, 0.2000],\n",
      "        [6.2000, 2.8000, 4.8000, 1.8000],\n",
      "        [6.5000, 2.8000, 4.6000, 1.5000],\n",
      "        [7.7000, 3.8000, 6.7000, 2.2000],\n",
      "        [6.4000, 3.2000, 5.3000, 2.3000],\n",
      "        [5.0000, 3.5000, 1.6000, 0.6000],\n",
      "        [5.9000, 3.0000, 5.1000, 1.8000],\n",
      "        [4.7000, 3.2000, 1.3000, 0.2000],\n",
      "        [6.2000, 3.4000, 5.4000, 2.3000],\n",
      "        [5.7000, 2.5000, 5.0000, 2.0000],\n",
      "        [6.2000, 2.2000, 4.5000, 1.5000],\n",
      "        [5.6000, 3.0000, 4.5000, 1.5000],\n",
      "        [4.9000, 2.4000, 3.3000, 1.0000],\n",
      "        [6.7000, 3.1000, 5.6000, 2.4000],\n",
      "        [4.6000, 3.1000, 1.5000, 0.2000],\n",
      "        [6.1000, 2.8000, 4.7000, 1.2000]]), tensor([0, 0, 1, 0, 2, 0, 2, 1, 1, 1, 0, 1, 0, 1, 1, 2, 2, 0, 2, 2, 2, 0, 2, 1,\n",
      "        1, 2, 1, 2, 2, 0, 2, 1, 2, 2, 0, 2, 0, 2, 2, 1, 1, 1, 2, 0, 1])]\n"
     ]
    }
   ],
   "source": [
    "for i_batch, sample_batched in enumerate(iris_loader):\n",
    "    print(i_batch, sample_batched)"
   ]
  },
  {
   "cell_type": "code",
   "execution_count": 15,
   "metadata": {},
   "outputs": [
    {
     "data": {
      "text/plain": [
       "tensor([35, 34, 36])"
      ]
     },
     "execution_count": 15,
     "metadata": {},
     "output_type": "execute_result"
    }
   ],
   "source": [
    "list(iris_loader)[0][1].bincount()"
   ]
  },
  {
   "cell_type": "code",
   "execution_count": 16,
   "metadata": {},
   "outputs": [
    {
     "data": {
      "text/plain": [
       "[tensor([[5.8000, 2.8000, 5.1000, 2.4000],\n",
       "         [5.8000, 2.7000, 3.9000, 1.2000],\n",
       "         [6.2000, 2.2000, 4.5000, 1.5000],\n",
       "         [6.4000, 3.1000, 5.5000, 1.8000],\n",
       "         [5.6000, 3.0000, 4.5000, 1.5000],\n",
       "         [5.7000, 2.8000, 4.5000, 1.3000],\n",
       "         [7.7000, 2.6000, 6.9000, 2.3000],\n",
       "         [5.1000, 3.7000, 1.5000, 0.4000],\n",
       "         [5.7000, 3.8000, 1.7000, 0.3000],\n",
       "         [6.9000, 3.1000, 5.4000, 2.1000],\n",
       "         [5.9000, 3.2000, 4.8000, 1.8000],\n",
       "         [6.7000, 3.3000, 5.7000, 2.1000],\n",
       "         [5.9000, 3.0000, 5.1000, 1.8000],\n",
       "         [5.4000, 3.7000, 1.5000, 0.2000],\n",
       "         [6.2000, 3.4000, 5.4000, 2.3000],\n",
       "         [4.8000, 3.4000, 1.6000, 0.2000],\n",
       "         [4.7000, 3.2000, 1.3000, 0.2000],\n",
       "         [6.5000, 3.0000, 5.8000, 2.2000],\n",
       "         [6.0000, 2.2000, 4.0000, 1.0000],\n",
       "         [5.7000, 4.4000, 1.5000, 0.4000],\n",
       "         [6.1000, 2.9000, 4.7000, 1.4000],\n",
       "         [5.9000, 3.0000, 4.2000, 1.5000],\n",
       "         [6.7000, 3.1000, 4.4000, 1.4000],\n",
       "         [5.0000, 3.5000, 1.3000, 0.3000],\n",
       "         [5.0000, 3.4000, 1.5000, 0.2000],\n",
       "         [5.1000, 3.3000, 1.7000, 0.5000],\n",
       "         [5.1000, 3.8000, 1.5000, 0.3000],\n",
       "         [4.4000, 2.9000, 1.4000, 0.2000],\n",
       "         [5.0000, 3.2000, 1.2000, 0.2000],\n",
       "         [6.1000, 2.8000, 4.7000, 1.2000],\n",
       "         [7.2000, 3.0000, 5.8000, 1.6000],\n",
       "         [6.4000, 2.7000, 5.3000, 1.9000],\n",
       "         [4.9000, 3.1000, 1.5000, 0.1000],\n",
       "         [5.6000, 2.8000, 4.9000, 2.0000],\n",
       "         [5.5000, 2.6000, 4.4000, 1.2000],\n",
       "         [4.8000, 3.0000, 1.4000, 0.1000],\n",
       "         [6.0000, 2.7000, 5.1000, 1.6000],\n",
       "         [6.3000, 2.8000, 5.1000, 1.5000],\n",
       "         [6.7000, 3.0000, 5.0000, 1.7000],\n",
       "         [6.3000, 3.4000, 5.6000, 2.4000],\n",
       "         [6.3000, 3.3000, 6.0000, 2.5000],\n",
       "         [7.6000, 3.0000, 6.6000, 2.1000],\n",
       "         [6.0000, 2.9000, 4.5000, 1.5000],\n",
       "         [5.3000, 3.7000, 1.5000, 0.2000],\n",
       "         [4.7000, 3.2000, 1.6000, 0.2000],\n",
       "         [5.7000, 2.9000, 4.2000, 1.3000],\n",
       "         [6.0000, 3.0000, 4.8000, 1.8000],\n",
       "         [5.5000, 4.2000, 1.4000, 0.2000],\n",
       "         [6.3000, 2.5000, 4.9000, 1.5000],\n",
       "         [5.4000, 3.0000, 4.5000, 1.5000],\n",
       "         [5.7000, 3.0000, 4.2000, 1.2000],\n",
       "         [6.1000, 2.6000, 5.6000, 1.4000],\n",
       "         [5.7000, 2.6000, 3.5000, 1.0000],\n",
       "         [5.8000, 2.7000, 5.1000, 1.9000],\n",
       "         [5.8000, 2.7000, 5.1000, 1.9000],\n",
       "         [4.5000, 2.3000, 1.3000, 0.3000],\n",
       "         [5.2000, 2.7000, 3.9000, 1.4000],\n",
       "         [6.4000, 2.8000, 5.6000, 2.2000],\n",
       "         [6.9000, 3.2000, 5.7000, 2.3000],\n",
       "         [6.8000, 3.0000, 5.5000, 2.1000],\n",
       "         [6.4000, 2.8000, 5.6000, 2.1000],\n",
       "         [6.3000, 2.9000, 5.6000, 1.8000],\n",
       "         [6.5000, 2.8000, 4.6000, 1.5000],\n",
       "         [6.1000, 2.8000, 4.0000, 1.3000],\n",
       "         [5.4000, 3.4000, 1.7000, 0.2000],\n",
       "         [6.0000, 3.4000, 4.5000, 1.6000],\n",
       "         [7.3000, 2.9000, 6.3000, 1.8000],\n",
       "         [4.6000, 3.6000, 1.0000, 0.2000],\n",
       "         [7.2000, 3.2000, 6.0000, 1.8000],\n",
       "         [5.1000, 3.4000, 1.5000, 0.2000],\n",
       "         [7.4000, 2.8000, 6.1000, 1.9000],\n",
       "         [6.8000, 3.2000, 5.9000, 2.3000],\n",
       "         [4.3000, 3.0000, 1.1000, 0.1000],\n",
       "         [5.6000, 2.5000, 3.9000, 1.1000],\n",
       "         [6.6000, 3.0000, 4.4000, 1.4000],\n",
       "         [5.8000, 2.7000, 4.1000, 1.0000],\n",
       "         [6.7000, 2.5000, 5.8000, 1.8000],\n",
       "         [7.9000, 3.8000, 6.4000, 2.0000],\n",
       "         [4.9000, 3.0000, 1.4000, 0.2000],\n",
       "         [5.0000, 3.6000, 1.4000, 0.2000],\n",
       "         [5.1000, 3.8000, 1.9000, 0.4000],\n",
       "         [5.2000, 4.1000, 1.5000, 0.1000],\n",
       "         [6.7000, 3.1000, 5.6000, 2.4000],\n",
       "         [5.6000, 3.0000, 4.1000, 1.3000],\n",
       "         [5.7000, 2.8000, 4.1000, 1.3000],\n",
       "         [5.5000, 2.3000, 4.0000, 1.3000],\n",
       "         [6.9000, 3.1000, 4.9000, 1.5000],\n",
       "         [4.6000, 3.1000, 1.5000, 0.2000],\n",
       "         [5.1000, 3.5000, 1.4000, 0.3000],\n",
       "         [6.3000, 2.3000, 4.4000, 1.3000],\n",
       "         [6.5000, 3.2000, 5.1000, 2.0000],\n",
       "         [6.8000, 2.8000, 4.8000, 1.4000],\n",
       "         [7.0000, 3.2000, 4.7000, 1.4000],\n",
       "         [6.3000, 2.7000, 4.9000, 1.8000],\n",
       "         [4.6000, 3.2000, 1.4000, 0.2000],\n",
       "         [5.2000, 3.4000, 1.4000, 0.2000],\n",
       "         [5.5000, 2.5000, 4.0000, 1.3000],\n",
       "         [5.5000, 2.4000, 3.7000, 1.0000],\n",
       "         [4.9000, 2.4000, 3.3000, 1.0000],\n",
       "         [4.6000, 3.4000, 1.4000, 0.3000],\n",
       "         [4.4000, 3.2000, 1.3000, 0.2000],\n",
       "         [5.6000, 2.9000, 3.6000, 1.3000],\n",
       "         [6.3000, 2.5000, 5.0000, 1.9000],\n",
       "         [6.0000, 2.2000, 5.0000, 1.5000],\n",
       "         [6.5000, 3.0000, 5.2000, 2.0000]]),\n",
       " tensor([2, 1, 1, 2, 1, 1, 2, 0, 0, 2, 1, 2, 2, 0, 2, 0, 0, 2, 1, 0, 1, 1, 1, 0,\n",
       "         0, 0, 0, 0, 0, 1, 2, 2, 0, 2, 1, 0, 1, 2, 1, 2, 2, 2, 1, 0, 0, 1, 2, 0,\n",
       "         1, 1, 1, 2, 1, 2, 2, 0, 1, 2, 2, 2, 2, 2, 1, 1, 0, 1, 2, 0, 2, 0, 2, 2,\n",
       "         0, 1, 1, 1, 2, 2, 0, 0, 0, 0, 2, 1, 1, 1, 1, 0, 0, 1, 2, 1, 1, 2, 0, 0,\n",
       "         1, 1, 1, 0, 0, 1, 2, 2, 2])]"
      ]
     },
     "execution_count": 16,
     "metadata": {},
     "output_type": "execute_result"
    }
   ],
   "source": [
    "next(iter(iris_loader))"
   ]
  },
  {
   "cell_type": "markdown",
   "metadata": {},
   "source": [
    "## A Quick Note on Torchvision\n",
    "PyTorch offers another powerful dataset tool called <a href='https://pytorch.org/docs/stable/torchvision/index.html'><tt><strong>torchvision</strong></tt></a>, which is useful when working with image data. We'll go into a lot more detail in the Convolutional Neural Network (CNN) section. For now, just know that torchvision offers built-in image datasets like <a href='https://en.wikipedia.org/wiki/MNIST_database'>MNIST</a> and <a href='https://en.wikipedia.org/wiki/CIFAR-10'>CIFAR-10</a>, as well as tools for transforming images into tensors."
   ]
  }
 ],
 "metadata": {
  "kernelspec": {
   "display_name": "Python 3",
   "language": "python",
   "name": "python3"
  },
  "language_info": {
   "codemirror_mode": {
    "name": "ipython",
    "version": 3
   },
   "file_extension": ".py",
   "mimetype": "text/x-python",
   "name": "python",
   "nbconvert_exporter": "python",
   "pygments_lexer": "ipython3",
   "version": "3.7.7"
  }
 },
 "nbformat": 4,
 "nbformat_minor": 2
}
