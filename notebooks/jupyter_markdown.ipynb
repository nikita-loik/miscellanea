{
 "cells": [
  {
   "cell_type": "markdown",
   "metadata": {},
   "source": [
    "# gitHub-Compatible Jupyter Markdown\n",
    "Test different types of markdown compatible with gitHub.\n",
    "\n",
    "# Paragraph 1\n",
    "## Paragraph 2\n",
    "### Paragraph 3\n",
    "\n",
    "## Text Fomating\n",
    "**bold** <br>\n",
    "*italics*<br>\n",
    "$word^{upper script}$<br>\n",
    "$word_{lower script}$<br>\n",
    "\n",
    "\n",
    "## Horisontal Separators\n",
    "***\n",
    "___\n",
    "<hr>\n",
    "\n",
    "## Equations\n",
    "In-line equations stay on the same line a the text $in-line\\space equations$.<br><br>\n",
    "In-line equations ocupy separate line: \n",
    "$$on-line equations$$\n",
    "There is no need to use line break before or after on-line equation.\n",
    "## Matrices\n",
    "'vmatrix' command does not work with gitHub.\n",
    "$$\n",
    "X = \\begin{bmatrix}\n",
    "x_{1,1} & \\ldots & x_{1,j} \\\\\n",
    "\\ldots & \\ldots & \\ldots \\\\\n",
    "x_{n,1} & \\ldots & x_{n,j}\\\\\n",
    "\\end{bmatrix}\n",
    "$$\n",
    "## Links\n",
    "This is an [example link](https://github.com/NikitaLoik).\n",
    "\n",
    "## Images\n",
    "<img src=\"neuralNetwork.png\">\n",
    "<img src=\"testImage.png\"/>\n",
    "\n",
    "## Tables\n",
    "|  A  |  B  |  C  |\n",
    "|:--- |:---:| ---:|\n",
    "|  a  |  b  |  c  |"
   ]
  },
  {
   "cell_type": "code",
   "execution_count": null,
   "metadata": {
    "collapsed": true
   },
   "outputs": [],
   "source": []
  }
 ],
 "metadata": {
  "kernelspec": {
   "display_name": "Python 3",
   "language": "python",
   "name": "python3"
  },
  "language_info": {
   "codemirror_mode": {
    "name": "ipython",
    "version": 3
   },
   "file_extension": ".py",
   "mimetype": "text/x-python",
   "name": "python",
   "nbconvert_exporter": "python",
   "pygments_lexer": "ipython3",
   "version": "3.7.5"
  }
 },
 "nbformat": 4,
 "nbformat_minor": 2
}
