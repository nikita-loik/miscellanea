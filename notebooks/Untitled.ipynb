{
 "cells": [
  {
   "cell_type": "code",
   "execution_count": 1,
   "metadata": {},
   "outputs": [],
   "source": [
    "import math\n",
    "import numpy as np\n",
    "import matplotlib\n",
    "from matplotlib import pyplot as plt\n",
    "plt.style.use('fivethirtyeight')"
   ]
  },
  {
   "cell_type": "markdown",
   "metadata": {},
   "source": [
    "1. Tell us about your gaming or esports experience and interests! Which games have you played? Have you played competitively?\n",
    "\n",
    "Unfortunatly, I have only limited experience with gaming, which is playing some arcades, quests, strategies back 20 to 15 years ago. I don't have any experience in esports.\n",
    "\n",
    "2. Do you have any experience with betting or knowledge about the industry? If so, what kind of exposure have you have to sports betting?\n",
    "\n",
    "My experience in betting is limited to Google Ads and adjusting the bets for the key words. Very rarely a game of poker, when I can roughly estimate the likelyhood of having an upper hand.\n",
    "\n",
    "3. You throw coin A 20 times and it comes up heads 12 times. You throw coin B 40 times and it comes up heads 23 times. Which coin is more likely to be biased towards heads? Please explain your answer.\n",
    "\n",
    "For the fair coin the expected number of heads at 20 tosses is 10, and at 40 tosses it is 20. For the binomial distribution the standard deviation at 20 tosses is approximately 2, and for 40 tosses it is 3. Which means that for both cases the results we are getting are within 1 standard diviation, and the probability that the coin is unbiased is about 70%.\n",
    "\n",
    "However, if we look at it into details, it suggest that for this result Coin A has to have the Expected probability of showing heads about 60% and Coin B 57.5%. This suggests that Coin A may be more biased towards heads. This, however requires verification using larger sample size.\n",
    "\n",
    "4. Consider the number of Dragons in a League of Legends match is a Poisson distribution with mean 5 Dragons per match. What is the probability of observing 12 Dragon kills in 3 games? Please explain your answer.\n",
    "\n",
    "If we assume Poisson distribution with mean of 5 Dragons per match, we can expect total of 12 dragons or more appearing over 3 matches with the probability more than 80%. Which technically makes it possible to kill at least 12 Dragons over 3 matches.\n",
    "\n",
    "5. How would you improve the Dragons model mentioned above to predict more accurately the number of Dragons that will be killed in the match?\n",
    "\n",
    "However, it would require information on the killing score of a team (percentage of killed dragons).\n",
    "Say, if the team kills 3 in 4 dragons (75%). The overall probability of 12 Dragons killed over 3 matches will be 80% * 75% = 60%."
   ]
  },
  {
   "cell_type": "markdown",
   "metadata": {},
   "source": [
    "[unfair coin](https://stats.stackexchange.com/questions/21581/how-to-assess-whether-a-coin-tossed-900-times-and-comes-up-heads-490-times-is-bi)\n",
    "\n",
    "[unfair coin wikipedia](https://en.wikipedia.org/wiki/Checking_whether_a_coin_is_fair)\n",
    "\n",
    "[coin flips k out or n](https://math.stackexchange.com/questions/151810/probability-of-3-heads-in-10-coin-flips)\n",
    "\n",
    "[coin flips k out or n](https://math.stackexchange.com/questions/429698/probability-of-getting-k-heads-with-n-coins)\n",
    "\n",
    "[esports](https://en.wikipedia.org/wiki/Esports)\n",
    "\n",
    "[Poisson distribution wikipedia](https://en.wikipedia.org/wiki/Poisson_distribution#Occurrence)\n",
    "\n",
    "[Poisson distribution towardsdatascience](https://towardsdatascience.com/the-poisson-distribution-and-poisson-process-explained-4e2cb17d459)\n",
    "\n",
    "[Poisson distribution](https://mei.org.uk/files/pdf/Poisson_Distribution_8.pdf)\n",
    "\n",
    "[Calculating large factorials](https://math.stackexchange.com/questions/2319182/calculating-large-factorials-without-a-calculator)"
   ]
  },
  {
   "cell_type": "code",
   "execution_count": 2,
   "metadata": {},
   "outputs": [],
   "source": [
    "def get_probability_of_k_heads_in_n_flips(\n",
    "        n: int,\n",
    "        h: int,\n",
    "        p_head: float=.5) -> float:\n",
    "    t = n - h\n",
    "    p_tail = 1 - p_head\n",
    "    p = (p_head ** h) * (p_tail ** t) * math.factorial(n) / (math.factorial(h) * math.factorial(t))\n",
    "    return p"
   ]
  },
  {
   "cell_type": "code",
   "execution_count": 3,
   "metadata": {},
   "outputs": [
    {
     "data": {
      "text/plain": [
       "0.12013435363769531"
      ]
     },
     "execution_count": 3,
     "metadata": {},
     "output_type": "execute_result"
    }
   ],
   "source": [
    "get_probability_of_k_heads_in_n_flips(n=20, h=12)"
   ]
  },
  {
   "cell_type": "code",
   "execution_count": 4,
   "metadata": {},
   "outputs": [
    {
     "name": "stdout",
     "output_type": "stream",
     "text": [
      "12.01%\n"
     ]
    }
   ],
   "source": [
    "p_12_in_20 = get_probability_of_k_heads_in_n_flips(n=20, h=12)\n",
    "print(f\"{p_12_in_20:.2%}\")"
   ]
  },
  {
   "cell_type": "code",
   "execution_count": 5,
   "metadata": {},
   "outputs": [
    {
     "name": "stdout",
     "output_type": "stream",
     "text": [
      "8.07%\n"
     ]
    }
   ],
   "source": [
    "p_23_in_40 = get_probability_of_k_heads_in_n_flips(n=40, h=23)\n",
    "print(f\"{p_23_in_40:.2%}\")"
   ]
  },
  {
   "cell_type": "code",
   "execution_count": 6,
   "metadata": {},
   "outputs": [
    {
     "name": "stdout",
     "output_type": "stream",
     "text": [
      "23: 0.0807016 0.0807016\n",
      "24: 0.0571637 0.1378653\n",
      "25: 0.0365847 0.1744500\n",
      "26: 0.0211066 0.1955566\n",
      "27: 0.0109442 0.2065008\n",
      "28: 0.0050812 0.2115820\n",
      "29: 0.0021026 0.2136845\n",
      "30: 0.0007709 0.2144555\n",
      "31: 0.0002487 0.2147042\n",
      "32: 0.0000699 0.2147741\n",
      "33: 0.0000170 0.2147911\n",
      "34: 0.0000035 0.2147946\n",
      "35: 0.0000006 0.2147952\n",
      "36: 0.0000001 0.2147952\n",
      "37: 0.0000000 0.2147953\n",
      "38: 0.0000000 0.2147953\n",
      "39: 0.0000000 0.2147953\n",
      "40: 0.0000000 0.2147953\n"
     ]
    }
   ],
   "source": [
    "total = 0\n",
    "for i in range(23, 41):\n",
    "    p = get_probability_of_k_heads_in_n_flips(n=40, h=i)\n",
    "    total += p\n",
    "    print(f\"{i}: {p:.7f} {total:.7f}\")"
   ]
  },
  {
   "cell_type": "code",
   "execution_count": 7,
   "metadata": {},
   "outputs": [
    {
     "data": {
      "text/plain": [
       "0.1171875"
      ]
     },
     "execution_count": 7,
     "metadata": {},
     "output_type": "execute_result"
    }
   ],
   "source": [
    "get_probability_of_k_heads_in_n_flips(n=10, h=7)"
   ]
  },
  {
   "cell_type": "code",
   "execution_count": 8,
   "metadata": {},
   "outputs": [
    {
     "data": {
      "text/plain": [
       "1320.0"
      ]
     },
     "execution_count": 8,
     "metadata": {},
     "output_type": "execute_result"
    }
   ],
   "source": [
    "math.factorial(11) / (math.factorial(7) * math.factorial(3))"
   ]
  },
  {
   "cell_type": "code",
   "execution_count": 24,
   "metadata": {},
   "outputs": [
    {
     "name": "stdout",
     "output_type": "stream",
     "text": [
      "60%: 0.1797058\n"
     ]
    }
   ],
   "source": [
    "p_max = 0\n",
    "p_head_max = 0\n",
    "for p_head in np.arange(0.01, 1.01, 0.01):\n",
    "    p = get_probability_of_k_heads_in_n_flips(n=20, h=12, p_head=p_head)\n",
    "    if p > p_max:\n",
    "        p_max = p\n",
    "        p_head_max = p_head\n",
    "#     print(f\"{p_head:.0%}: {p:.7f}\")\n",
    "print(f\"{p_head_max:.0%}: {p_max:.7f}\")"
   ]
  },
  {
   "cell_type": "code",
   "execution_count": 25,
   "metadata": {},
   "outputs": [
    {
     "name": "stdout",
     "output_type": "stream",
     "text": [
      "57%: 0.1265224\n"
     ]
    }
   ],
   "source": [
    "p_max = 0\n",
    "p_head_max = 0\n",
    "for p_head in np.arange(0.01, 1.01, 0.01):\n",
    "    p = get_probability_of_k_heads_in_n_flips(n=40, h=23, p_head=p_head)\n",
    "    if p > p_max:\n",
    "        p_max = p\n",
    "        p_head_max = p_head\n",
    "#     print(f\"{p_head:.0%}: {p:.7f}\")\n",
    "print(f\"{p_head_max:.0%}: {p_max:.7f}\")"
   ]
  },
  {
   "cell_type": "code",
   "execution_count": 26,
   "metadata": {},
   "outputs": [
    {
     "data": {
      "text/plain": [
       "0.575"
      ]
     },
     "execution_count": 26,
     "metadata": {},
     "output_type": "execute_result"
    }
   ],
   "source": [
    "23/40"
   ]
  },
  {
   "cell_type": "code",
   "execution_count": 27,
   "metadata": {},
   "outputs": [
    {
     "data": {
      "text/plain": [
       "0.6"
      ]
     },
     "execution_count": 27,
     "metadata": {},
     "output_type": "execute_result"
    }
   ],
   "source": [
    "12/20"
   ]
  },
  {
   "cell_type": "code",
   "execution_count": 30,
   "metadata": {},
   "outputs": [
    {
     "data": {
      "text/plain": [
       "2.23606797749979"
      ]
     },
     "execution_count": 30,
     "metadata": {},
     "output_type": "execute_result"
    }
   ],
   "source": [
    "math.sqrt(20*0.25)"
   ]
  },
  {
   "cell_type": "code",
   "execution_count": 33,
   "metadata": {},
   "outputs": [
    {
     "data": {
      "text/plain": [
       "3.1622776601683795"
      ]
     },
     "execution_count": 33,
     "metadata": {},
     "output_type": "execute_result"
    }
   ],
   "source": [
    "math.sqrt(40*0.25)"
   ]
  },
  {
   "cell_type": "code",
   "execution_count": 39,
   "metadata": {},
   "outputs": [],
   "source": [
    "def get_poisson_probability(\n",
    "        l: int,\n",
    "        k: int) -> float:\n",
    "    p = math.exp(-l) * (l ** k) / math.factorial(k)\n",
    "    return p"
   ]
  },
  {
   "cell_type": "code",
   "execution_count": 43,
   "metadata": {},
   "outputs": [
    {
     "name": "stdout",
     "output_type": "stream",
     "text": [
      "0: 0.000%, 0.00%\n",
      "1: 0.000%, 0.00%\n",
      "2: 0.003%, 0.00%\n",
      "3: 0.017%, 0.02%\n",
      "4: 0.065%, 0.09%\n",
      "5: 0.194%, 0.28%\n",
      "6: 0.484%, 0.76%\n",
      "7: 1.037%, 1.80%\n",
      "8: 1.944%, 3.74%\n",
      "9: 3.241%, 6.99%\n",
      "10: 4.861%, 11.85%\n",
      "11: 6.629%, 18.48%\n",
      "12: 8.286%, 26.76%\n",
      "13: 9.561%, 36.32%\n",
      "14: 10.244%, 46.57%\n",
      "15: 10.244%, 56.81%\n",
      "16: 9.603%, 66.41%\n",
      "17: 8.474%, 74.89%\n",
      "18: 7.061%, 81.95%\n",
      "19: 5.575%, 87.52%\n",
      "20: 4.181%, 91.70%\n",
      "21: 2.986%, 94.69%\n",
      "22: 2.036%, 96.73%\n",
      "23: 1.328%, 98.05%\n",
      "24: 0.830%, 98.88%\n",
      "25: 0.498%, 99.38%\n",
      "26: 0.287%, 99.67%\n",
      "27: 0.160%, 99.83%\n",
      "28: 0.086%, 99.91%\n",
      "29: 0.044%, 99.96%\n",
      "30: 0.022%, 99.98%\n",
      "31: 0.011%, 99.99%\n",
      "32: 0.005%, 100.00%\n",
      "33: 0.002%, 100.00%\n",
      "34: 0.001%, 100.00%\n",
      "35: 0.000%, 100.00%\n",
      "36: 0.000%, 100.00%\n",
      "37: 0.000%, 100.00%\n",
      "38: 0.000%, 100.00%\n",
      "39: 0.000%, 100.00%\n"
     ]
    }
   ],
   "source": [
    "p_total = 0\n",
    "for k in range(40):\n",
    "    p = get_poisson_probability(l=15, k=k)\n",
    "    p_total += p\n",
    "    print(f\"{k}: {p:.3%}, {p_total:.2%}\")"
   ]
  },
  {
   "cell_type": "code",
   "execution_count": null,
   "metadata": {},
   "outputs": [],
   "source": []
  }
 ],
 "metadata": {
  "kernelspec": {
   "display_name": "miscellanea_py",
   "language": "python",
   "name": "miscellanea_py"
  },
  "language_info": {
   "codemirror_mode": {
    "name": "ipython",
    "version": 3
   },
   "file_extension": ".py",
   "mimetype": "text/x-python",
   "name": "python",
   "nbconvert_exporter": "python",
   "pygments_lexer": "ipython3",
   "version": "3.7.7"
  }
 },
 "nbformat": 4,
 "nbformat_minor": 2
}
